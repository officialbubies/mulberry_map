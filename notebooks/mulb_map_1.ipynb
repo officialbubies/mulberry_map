{
 "cells": [
  {
   "cell_type": "code",
   "execution_count": null,
   "id": "6e73d593",
   "metadata": {},
   "outputs": [],
   "source": [
    "from shapely.geometry import Point\n",
    "import pandas as pd\n",
    "import geopandas as gpd\n",
    "import matplotlib.pyplot as plt\n",
    "import folium\n",
    "from folium.plugins import MarkerCluster\n",
    "from folium.plugins import FastMarkerCluster"
   ]
  },
  {
   "cell_type": "code",
   "execution_count": null,
   "id": "47afb3c0",
   "metadata": {},
   "outputs": [],
   "source": [
    "zipcodes = gpd.read_file('../data/zipcodes.geojson')\n",
    "print(zipcodes.crs)\n",
    "zipcodes.head()"
   ]
  },
  {
   "cell_type": "markdown",
   "id": "8d7aec11",
   "metadata": {},
   "source": [
    "The zipcode data was downloaded from https://data.nashville.gov/General-Government/Zip-Codes/u7r5-bpku"
   ]
  },
  {
   "cell_type": "code",
   "execution_count": null,
   "id": "53b8cb00",
   "metadata": {},
   "outputs": [],
   "source": [
    "type(zipcodes)"
   ]
  },
  {
   "cell_type": "code",
   "execution_count": null,
   "id": "8c2b9e2c",
   "metadata": {},
   "outputs": [],
   "source": [
    "zipcodes.plot()"
   ]
  },
  {
   "cell_type": "code",
   "execution_count": null,
   "id": "b6a6cd20",
   "metadata": {},
   "outputs": [],
   "source": [
    "legend_kwd = {'title':'Zipcodes', 'loc':'upper left','bbox_to_anchor': (1,1.03), 'ncol':2}"
   ]
  },
  {
   "cell_type": "code",
   "execution_count": null,
   "id": "62560a67",
   "metadata": {},
   "outputs": [],
   "source": [
    "zipcodes.plot(column = 'zip', figsize=(10, 10),\n",
    "              edgecolor = 'black',\n",
    "              legend = True, legend_kwds = legend_kwd,\n",
    "              cmap = 'Set3')"
   ]
  },
  {
   "cell_type": "code",
   "execution_count": null,
   "id": "a7c7ad84",
   "metadata": {},
   "outputs": [],
   "source": [
    "mulb_trees = pd.read_csv('../data/bbw_map_003.csv')\n",
    "mulb_trees"
   ]
  },
  {
   "cell_type": "code",
   "execution_count": null,
   "id": "bfabc2a5",
   "metadata": {},
   "outputs": [],
   "source": [
    "The zipcode data was downloaded from "
   ]
  },
  {
   "cell_type": "code",
   "execution_count": null,
   "id": "05eea47d",
   "metadata": {},
   "outputs": [],
   "source": [
    "mulb_trees.info()"
   ]
  },
  {
   "cell_type": "code",
   "execution_count": null,
   "id": "be61fcd9",
   "metadata": {},
   "outputs": [],
   "source": [
    "mulb_trees['geometry'] = mulb_trees.apply(lambda x: Point((float(x.Longitude),\n",
    "                                                           float(x.Latitude))),\n",
    "                                          axis=1)"
   ]
  },
  {
   "cell_type": "code",
   "execution_count": null,
   "id": "f4721797",
   "metadata": {},
   "outputs": [],
   "source": [
    "mulb_trees.head()"
   ]
  },
  {
   "cell_type": "code",
   "execution_count": null,
   "id": "af05c394",
   "metadata": {},
   "outputs": [],
   "source": [
    "zipcodes.crs"
   ]
  },
  {
   "cell_type": "code",
   "execution_count": null,
   "id": "e7cd03bc",
   "metadata": {},
   "outputs": [],
   "source": [
    "tree_geo = gpd.GeoDataFrame(mulb_trees,\n",
    "                            crs = zipcodes.crs,\n",
    "                            geometry = mulb_trees['geometry'])"
   ]
  },
  {
   "cell_type": "code",
   "execution_count": null,
   "id": "bdb34f9a",
   "metadata": {},
   "outputs": [],
   "source": [
    "type(tree_geo)"
   ]
  },
  {
   "cell_type": "code",
   "execution_count": null,
   "id": "5400e1f4",
   "metadata": {},
   "outputs": [],
   "source": [
    "zipcodes = zipcodes[['zip', 'po_name', 'geometry']]"
   ]
  },
  {
   "cell_type": "code",
   "execution_count": null,
   "id": "0ac45edb",
   "metadata": {},
   "outputs": [],
   "source": [
    "trees_by_zip = gpd.sjoin(tree_geo, zipcodes, op='within')"
   ]
  },
  {
   "cell_type": "code",
   "execution_count": null,
   "id": "1bd7dc48",
   "metadata": {},
   "outputs": [],
   "source": [
    "trees_by_zip.head()"
   ]
  },
  {
   "cell_type": "code",
   "execution_count": null,
   "id": "4349dbe8",
   "metadata": {},
   "outputs": [],
   "source": [
    "trees_by_zip['zip'].value_counts()"
   ]
  },
  {
   "cell_type": "code",
   "execution_count": null,
   "id": "739abeef",
   "metadata": {},
   "outputs": [],
   "source": [
    "trees_in_37206 = trees_by_zip.loc[trees_by_zip['zip'] == '37206']"
   ]
  },
  {
   "cell_type": "code",
   "execution_count": null,
   "id": "9b0f8bd4",
   "metadata": {},
   "outputs": [],
   "source": [
    "polygon_37206 = zipcodes.loc[zipcodes['zip'] == '37206']"
   ]
  },
  {
   "cell_type": "code",
   "execution_count": null,
   "id": "485ca019",
   "metadata": {},
   "outputs": [],
   "source": [
    "ax = polygon_37206.plot(figsize=(8,10), color='lightblue')\n",
    "trees_in_37206.plot(ax = ax, column = 'Name')\n",
    "plt.show()"
   ]
  },
  {
   "cell_type": "code",
   "execution_count": null,
   "id": "f546d044",
   "metadata": {},
   "outputs": [],
   "source": [
    "trees_in_37206"
   ]
  },
  {
   "cell_type": "code",
   "execution_count": null,
   "id": "56df1289",
   "metadata": {},
   "outputs": [],
   "source": [
    "polygon_37206.geometry.centroid"
   ]
  },
  {
   "cell_type": "code",
   "execution_count": null,
   "id": "0efa1916",
   "metadata": {},
   "outputs": [],
   "source": [
    "center = polygon_37206.geometry.centroid[13]"
   ]
  },
  {
   "cell_type": "code",
   "execution_count": null,
   "id": "68e5ea45",
   "metadata": {},
   "outputs": [],
   "source": [
    "area_center  = [center.y, center.x]"
   ]
  },
  {
   "cell_type": "code",
   "execution_count": null,
   "id": "2baa8a0b",
   "metadata": {},
   "outputs": [],
   "source": [
    "print(area_center)"
   ]
  },
  {
   "cell_type": "code",
   "execution_count": null,
   "id": "984d5d07",
   "metadata": {},
   "outputs": [],
   "source": [
    "map_37206 = folium.Map(location= area_center, zoom_start= 13)"
   ]
  },
  {
   "cell_type": "code",
   "execution_count": null,
   "id": "4e537352",
   "metadata": {
    "scrolled": true
   },
   "outputs": [],
   "source": [
    "map_37206"
   ]
  },
  {
   "cell_type": "code",
   "execution_count": null,
   "id": "b9323d04",
   "metadata": {},
   "outputs": [],
   "source": [
    "i = 0\n",
    "for row_index, row_values in trees_in_37206.iterrows():\n",
    "    if i <3: \n",
    "        print('index is', row_index)\n",
    "        print('values are:')\n",
    "        print(' ')\n",
    "        print(row_values)\n",
    "        print('------------------------- ')\n",
    "        i+=1"
   ]
  },
  {
   "cell_type": "code",
   "execution_count": null,
   "id": "c6d4ec4c",
   "metadata": {},
   "outputs": [],
   "source": [
    "folium.GeoJson(polygon_37206).add_to(map_37206)"
   ]
  },
  {
   "cell_type": "code",
   "execution_count": null,
   "id": "81563fb5",
   "metadata": {
    "scrolled": true
   },
   "outputs": [],
   "source": [
    "for i, row in trees_in_37206.iterrows():\n",
    "    loc= [row['Latitude'], row['Longitude']]\n",
    "    pop= str(row['Name'])\n",
    "    icon=folium.Icon(color='green', icon='tree', prefix='fa')\n",
    "    \n",
    "    marker = folium.Marker(\n",
    "        location = loc,\n",
    "        popup = pop, icon = icon)\n",
    "    \n",
    "    marker.add_to(map_37206)\n",
    "map_37206.save('../maps/treemap.html')"
   ]
  },
  {
   "cell_type": "code",
   "execution_count": null,
   "id": "a6cbed98",
   "metadata": {
    "scrolled": true
   },
   "outputs": [],
   "source": [
    "map_37206"
   ]
  },
  {
   "cell_type": "code",
   "execution_count": null,
   "id": "4944aaba",
   "metadata": {},
   "outputs": [],
   "source": [
    "cluster_37206 = folium.Map(location= area_center, zoom_start=12)"
   ]
  },
  {
   "cell_type": "code",
   "execution_count": null,
   "id": "0a33ee67",
   "metadata": {},
   "outputs": [],
   "source": [
    "mrk_cluster = MarkerCluster().add_to(cluster_37206)\n",
    "folium.GeoJson(polygon_37206).add_to(cluster_37206)"
   ]
  },
  {
   "cell_type": "code",
   "execution_count": null,
   "id": "051b3e9d",
   "metadata": {},
   "outputs": [],
   "source": [
    "for i, row in trees_in_37206.iterrows():\n",
    "    loc= [row['Latitude'], row['Longitude']]\n",
    "    pop= str(row['Name'])\n",
    "    icon=folium.Icon(color='green',icon='tree',prefix='fa')\n",
    "    \n",
    "    marker = folium.Marker(\n",
    "        location = loc,\n",
    "        popup = pop,\n",
    "    icon = icon)\n",
    "    \n",
    "    marker.add_to(mrk_cluster)"
   ]
  },
  {
   "cell_type": "code",
   "execution_count": null,
   "id": "f0abc162",
   "metadata": {},
   "outputs": [],
   "source": [
    "cluster_37206.save('../maps/cluster_37206')"
   ]
  },
  {
   "cell_type": "code",
   "execution_count": null,
   "id": "7c8570ec",
   "metadata": {},
   "outputs": [],
   "source": [
    "cluster_37206\n"
   ]
  },
  {
   "cell_type": "code",
   "execution_count": null,
   "id": "331a3f07",
   "metadata": {},
   "outputs": [],
   "source": []
  }
 ],
 "metadata": {
  "kernelspec": {
   "display_name": "Python [conda env:geospatial]",
   "language": "python",
   "name": "conda-env-geospatial-py"
  },
  "language_info": {
   "codemirror_mode": {
    "name": "ipython",
    "version": 3
   },
   "file_extension": ".py",
   "mimetype": "text/x-python",
   "name": "python",
   "nbconvert_exporter": "python",
   "pygments_lexer": "ipython3",
   "version": "3.8.5"
  }
 },
 "nbformat": 4,
 "nbformat_minor": 5
}
